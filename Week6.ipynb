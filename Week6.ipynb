{
  "nbformat": 4,
  "nbformat_minor": 0,
  "metadata": {
    "colab": {
      "name": "Week6.ipynb",
      "provenance": [],
      "mount_file_id": "https://github.com/lilipolinema/PCVK_Genap_2021/blob/master/Week6.ipynb",
      "authorship_tag": "ABX9TyMfjHM51d42csycDS9sKO+2",
      "include_colab_link": true
    },
    "kernelspec": {
      "name": "python3",
      "display_name": "Python 3"
    },
    "language_info": {
      "name": "python"
    }
  },
  "cells": [
    {
      "cell_type": "markdown",
      "metadata": {
        "id": "view-in-github",
        "colab_type": "text"
      },
      "source": [
        "<a href=\"https://colab.research.google.com/github/lilipolinema/PCVK_Genap_2021/blob/master/Week6.ipynb\" target=\"_parent\"><img src=\"https://colab.research.google.com/assets/colab-badge.svg\" alt=\"Open In Colab\"/></a>"
      ]
    },
    {
      "cell_type": "markdown",
      "metadata": {
        "id": "qD-dYHVdrEy-"
      },
      "source": [
        "**Nama: Lili Nur Indah Sari**\n",
        "\n",
        "**Kelas: TI-3F**\n",
        "\n",
        "**NIM: 1841720037**"
      ]
    },
    {
      "cell_type": "markdown",
      "metadata": {
        "id": "RBve7UEZrwjk"
      },
      "source": [
        "1. Buka https://colab.research.google.com/. Setelah dipastikan bahwa google Colab\n",
        "terhubung dengan Github Anda, lanjutkan dengan memilih repository yang telah\n",
        "digunakan pada praktikum minggu lalu, rename file menjadi “Week6.ipynb”. \n",
        "Kemudian import folder yang ada di Drive Anda dengan cara sebagai berikut. "
      ]
    },
    {
      "cell_type": "code",
      "metadata": {
        "id": "KPeIukxyqouQ",
        "outputId": "c6cd9c47-dafc-4892-91d7-fb1afc8da3d1",
        "colab": {
          "base_uri": "https://localhost:8080/"
        }
      },
      "source": [
        "from google.colab import drive\n",
        "\n",
        "drive.mount('/content/drive')"
      ],
      "execution_count": 1,
      "outputs": [
        {
          "output_type": "stream",
          "text": [
            "Mounted at /content/drive\n"
          ],
          "name": "stdout"
        }
      ]
    },
    {
      "cell_type": "markdown",
      "metadata": {
        "id": "qe6XRLuOseuK"
      },
      "source": [
        "2. Import beberapa library berikut yang akan digunakan selama uji coba praktikum\n",
        "minggu ke-6 berikut."
      ]
    },
    {
      "cell_type": "code",
      "metadata": {
        "id": "xPnbKrwpsfoB"
      },
      "source": [
        "import cv2 as cv\n",
        "from google.colab.patches import cv2_imshow\n",
        "from skimage import io\n",
        "import matplotlib.pyplot as plt\n",
        "import numpy as np\n",
        "import math\n",
        "import os\n",
        "import glob"
      ],
      "execution_count": 2,
      "outputs": []
    },
    {
      "cell_type": "markdown",
      "metadata": {
        "id": "X6g-s_eKs2Vj"
      },
      "source": [
        "3. Buatlah histogram citra seperti output histogram berikut berdasarkan flowchart di\n",
        "bawah ini : (Gunakan gambar lena.jpg)"
      ]
    },
    {
      "cell_type": "code",
      "metadata": {
        "id": "FOqywhBes1RZ",
        "outputId": "5b48a035-77ce-4cea-ad35-c992353ef4e7",
        "colab": {
          "base_uri": "https://localhost:8080/",
          "height": 316
        }
      },
      "source": [
        "img = cv.imread('/content/drive/MyDrive/PCVK/Images/lena.jpg')\n",
        "\n",
        "height, width, depth = np.shape(img)\n",
        "names = np.arange(256)\n",
        "\n",
        "red = [0]*256\n",
        "green = [0]*256\n",
        "blue = [0]*256\n",
        "\n",
        "for y in range(0,height) :\n",
        "  for x in range(0,width) :\n",
        "    red[img[y][x][2]] += 1\n",
        "    green[img[y][x][1]] += 1\n",
        "    blue[img[y][x][0]] += 1\n",
        "\n",
        "names = np.arange(256)\n",
        "fig, axs = plt.subplots(1, 3, figsize=[20,5], sharex=True, sharey=True)\n",
        "fig.suptitle('Histogram RGB plot')\n",
        "fig.text(0.09, 0.5, 'Jumlah Kemunculan', va='center', rotation='vertical')\n",
        "fig.text(0.5, 0.04, 'Intensitas Warna', ha='center')\n",
        "axs[0].bar(names, red, color='red')\n",
        "axs[1].bar(names, green, color='green')\n",
        "axs[2].bar(names, blue, color='blue')"
      ],
      "execution_count": 3,
      "outputs": [
        {
          "output_type": "execute_result",
          "data": {
            "text/plain": [
              "<BarContainer object of 256 artists>"
            ]
          },
          "metadata": {
            "tags": []
          },
          "execution_count": 3
        },
        {
          "output_type": "display_data",
          "data": {
            "image/png": "[encoded data removed]",
            "text/plain": [
              "<Figure size 1440x360 with 3 Axes>"
            ]
          },
          "metadata": {
            "tags": [],
            "needs_background": "light"
          }
        }
      ]
    }
  ]
}