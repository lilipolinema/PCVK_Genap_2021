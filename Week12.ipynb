{
  "nbformat": 4,
  "nbformat_minor": 0,
  "metadata": {
    "colab": {
      "name": "Week11.ipynb",
      "provenance": [],
      "authorship_tag": "ABX9TyPtIPcpsh2p4jQOeipw92We",
      "include_colab_link": true
    },
    "kernelspec": {
      "name": "python3",
      "display_name": "Python 3"
    },
    "language_info": {
      "name": "python"
    }
  },
  "cells": [
    {
      "cell_type": "markdown",
      "metadata": {
        "id": "view-in-github",
        "colab_type": "text"
      },
      "source": [
        "<a href=\"https://colab.research.google.com/github/lilipolinema/PCVK_Genap_2021/blob/master/Week12.ipynb\" target=\"_parent\"><img src=\"https://colab.research.google.com/assets/colab-badge.svg\" alt=\"Open In Colab\"/></a>"
      ]
    },
    {
      "cell_type": "markdown",
      "metadata": {
        "id": "sEBGsHKAV2fg"
      },
      "source": [
        "**Nama: Lili Nur Indah Sari**\n",
        "\n",
        "**NIM:1841720037**\n",
        "\n",
        "**Kelas: TI-3F**"
      ]
    },
    {
      "cell_type": "markdown",
      "metadata": {
        "id": "IgPZIO1xWH_4"
      },
      "source": [
        "1. Buka https://colab.research.google.com/. Setelah dipastikan bahwa google Colab\n",
        "terhubung dengan Github Anda, buat notebook baru dan beri nama “Week12.ipynb”.\n",
        "Kemudian import beberapa library dan akses folder yang ada di Drive Anda dengan\n",
        "seperti biasa. "
      ]
    },
    {
      "cell_type": "code",
      "metadata": {
        "id": "X9Cn7bmIRAID",
        "outputId": "922581ab-0f22-47ee-9d0c-77ea42bdff9e",
        "colab": {
          "base_uri": "https://localhost:8080/"
        }
      },
      "source": [
        "from google.colab import drive\n",
        "\n",
        "drive.mount('/content/drive/')"
      ],
      "execution_count": 1,
      "outputs": [
        {
          "output_type": "stream",
          "text": [
            "Mounted at /content/drive/\n"
          ],
          "name": "stdout"
        }
      ]
    }
  ]
}